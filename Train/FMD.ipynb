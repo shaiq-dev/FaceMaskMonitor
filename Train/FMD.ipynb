{
  "nbformat": 4,
  "nbformat_minor": 0,
  "metadata": {
    "accelerator": "TPU",
    "colab": {
      "name": "FMD",
      "provenance": [],
      "collapsed_sections": []
    },
    "kernelspec": {
      "display_name": "Python 3",
      "name": "python3"
    },
    "language_info": {
      "name": "python"
    }
  },
  "cells": [
    {
      "cell_type": "code",
      "metadata": {
        "id": "LybuQvf2w8QZ"
      },
      "source": [
        "import os\n",
        "from os import path\n",
        "import cv2\n",
        "import numpy as np\n",
        "from sklearn.model_selection import train_test_split\n",
        "from sklearn.preprocessing import LabelBinarizer\n",
        "from keras.optimizers import Adam\n",
        "from keras.models import Sequential\n",
        "from keras.layers import Conv2D, Activation, MaxPooling2D, Flatten, Dense,Dropout\n",
        "from keras.models import Model, load_model\n",
        "from keras.utils import to_categorical\n",
        "\n",
        "\n",
        "IMG_ROWS = 112\n",
        "IMG_COLS = 112\n",
        "num_classes = 2\n",
        "batch_size = 32\n",
        "# Grayscale Images 1\n",
        "# Colored Images 3\n",
        "channel_type = 1 \n",
        "activation_type = \"relu\"\n"
      ],
      "execution_count": null,
      "outputs": []
    },
    {
      "cell_type": "code",
      "metadata": {
        "colab": {
          "base_uri": "https://localhost:8080/"
        },
        "id": "oGSwPDIrxYMS",
        "outputId": "964d5fcb-05cd-4d10-ca76-4f5ae215ca7e"
      },
      "source": [
        "\n",
        "\n",
        "layers = [\n",
        "          Conv2D(64, (3,3), input_shape=(IMG_ROWS, IMG_COLS, channel_type)),\n",
        "          Activation(activation_type),\n",
        "          MaxPooling2D(pool_size=(2,2)),\n",
        "          Conv2D(128, (3,3)),\n",
        "          Activation(activation_type),\n",
        "          MaxPooling2D(pool_size=(2,2)),\n",
        "          Flatten(),\n",
        "          Dropout(0.5),\n",
        "          Dense(64, activation=activation_type),\n",
        "          Dense(num_classes, activation='softmax')\n",
        "]\n",
        "model = Sequential(layers)\n",
        "model.compile(\n",
        "    loss = 'categorical_crossentropy',\n",
        "    optimizer = Adam(lr=0.001),\n",
        "    metrics = ['accuracy']\n",
        ")\n",
        "\n",
        "print(model.summary())"
      ],
      "execution_count": null,
      "outputs": [
        {
          "output_type": "stream",
          "text": [
            "Model: \"sequential_5\"\n",
            "_________________________________________________________________\n",
            "Layer (type)                 Output Shape              Param #   \n",
            "=================================================================\n",
            "conv2d_10 (Conv2D)           (None, 110, 110, 64)      640       \n",
            "_________________________________________________________________\n",
            "activation_6 (Activation)    (None, 110, 110, 64)      0         \n",
            "_________________________________________________________________\n",
            "max_pooling2d_10 (MaxPooling (None, 55, 55, 64)        0         \n",
            "_________________________________________________________________\n",
            "conv2d_11 (Conv2D)           (None, 53, 53, 128)       73856     \n",
            "_________________________________________________________________\n",
            "activation_7 (Activation)    (None, 53, 53, 128)       0         \n",
            "_________________________________________________________________\n",
            "max_pooling2d_11 (MaxPooling (None, 26, 26, 128)       0         \n",
            "_________________________________________________________________\n",
            "flatten_5 (Flatten)          (None, 86528)             0         \n",
            "_________________________________________________________________\n",
            "dropout_5 (Dropout)          (None, 86528)             0         \n",
            "_________________________________________________________________\n",
            "dense_10 (Dense)             (None, 64)                5537856   \n",
            "_________________________________________________________________\n",
            "dense_11 (Dense)             (None, 2)                 130       \n",
            "=================================================================\n",
            "Total params: 5,612,482\n",
            "Trainable params: 5,612,482\n",
            "Non-trainable params: 0\n",
            "_________________________________________________________________\n",
            "None\n"
          ],
          "name": "stdout"
        }
      ]
    },
    {
      "cell_type": "code",
      "metadata": {
        "colab": {
          "base_uri": "https://localhost:8080/"
        },
        "id": "j5fCcyIm1k49",
        "outputId": "d73c5eea-3379-4586-8f4b-504b0de02ca9"
      },
      "source": [
        "# Load the Dataset\n",
        "os.chdir('/content/drive/My Drive/Datasets')\n",
        "dataset = 'FaceMaskDataset'\n",
        "images = []\n",
        "labels = []\n",
        "\n",
        "data_categories = os.listdir(dataset)\n",
        "\n",
        "for ctg in data_categories:\n",
        "  print(f'\\n[READING] {ctg}')\n",
        "  active_ctg = path.join(dataset, ctg)\n",
        "\n",
        "  for img in os.listdir(active_ctg):\n",
        "    print('\\r',f'[CURRENT] {img}', end=' ')\n",
        "    img = cv2.imread(path.join(active_ctg, img))\n",
        "    try:\n",
        "      img_greyscaled = cv2.cvtColor(img, cv2.COLOR_BGR2GRAY)\n",
        "      images.append(\n",
        "          cv2.resize(img_greyscaled, (IMG_ROWS, IMG_COLS))\n",
        "      )\n",
        "      labels.append(ctg)\n",
        "    except Exception as e:\n",
        "      print(e)\n",
        "\n",
        "print(\"[DONE] Images read successfully\")\n",
        "    \n",
        "images = np.array(images)/255.0\n",
        "images = np.reshape(images, (\n",
        "    images.shape[0], IMG_ROWS, IMG_COLS, 1\n",
        ")) \n",
        "# Hot encode labels because they are in textual form\n",
        "lb_binarizer = LabelBinarizer()\n",
        "labels = lb_binarizer.fit_transform(labels)\n",
        "labels = to_categorical(labels)\n",
        "labels = np.array(labels)\n",
        "\n",
        "(train_x, test_x, train_y, test_y) = train_test_split(\n",
        "    images, labels, test_size=0.25, random_state=0\n",
        ")"
      ],
      "execution_count": null,
      "outputs": [
        {
          "output_type": "stream",
          "text": [
            "\n",
            "[READING] WithoutMask\n",
            " [CURRENT] 0_0_masu_0081.jpg \n",
            "[READING] WithMask\n",
            " [CURRENT] 0_1_8 copy.jpg [DONE] Images read successfully\n"
          ],
          "name": "stdout"
        }
      ]
    },
    {
      "cell_type": "code",
      "metadata": {
        "colab": {
          "base_uri": "https://localhost:8080/"
        },
        "id": "oVvaZRaexxog",
        "outputId": "fb1a71d3-eed1-408a-f4ad-ef469a72289f"
      },
      "source": [
        "fitted_fmd_model = model.fit(\n",
        "    train_x,\n",
        "    train_y,\n",
        "    epochs = 50,\n",
        "    validation_split = 0.25\n",
        ")"
      ],
      "execution_count": null,
      "outputs": [
        {
          "output_type": "stream",
          "text": [
            "Epoch 1/50\n",
            "68/68 [==============================] - 90s 1s/step - loss: 0.8939 - accuracy: 0.5940 - val_loss: 0.5433 - val_accuracy: 0.7524\n",
            "Epoch 2/50\n",
            "68/68 [==============================] - 84s 1s/step - loss: 0.4426 - accuracy: 0.7930 - val_loss: 0.4554 - val_accuracy: 0.8011\n",
            "Epoch 3/50\n",
            "68/68 [==============================] - 84s 1s/step - loss: 0.3415 - accuracy: 0.8456 - val_loss: 0.4460 - val_accuracy: 0.8164\n",
            "Epoch 4/50\n",
            "68/68 [==============================] - 84s 1s/step - loss: 0.2822 - accuracy: 0.8758 - val_loss: 0.3199 - val_accuracy: 0.8748\n",
            "Epoch 5/50\n",
            "68/68 [==============================] - 84s 1s/step - loss: 0.2056 - accuracy: 0.9173 - val_loss: 0.3295 - val_accuracy: 0.8679\n",
            "Epoch 6/50\n",
            "68/68 [==============================] - 84s 1s/step - loss: 0.1568 - accuracy: 0.9379 - val_loss: 0.3365 - val_accuracy: 0.8748\n",
            "Epoch 7/50\n",
            "68/68 [==============================] - 84s 1s/step - loss: 0.1385 - accuracy: 0.9346 - val_loss: 0.3185 - val_accuracy: 0.8818\n",
            "Epoch 8/50\n",
            "68/68 [==============================] - 84s 1s/step - loss: 0.0788 - accuracy: 0.9678 - val_loss: 0.3829 - val_accuracy: 0.8818\n",
            "Epoch 9/50\n",
            "68/68 [==============================] - 84s 1s/step - loss: 0.0689 - accuracy: 0.9724 - val_loss: 0.3377 - val_accuracy: 0.8943\n",
            "Epoch 10/50\n",
            "68/68 [==============================] - 85s 1s/step - loss: 0.0634 - accuracy: 0.9753 - val_loss: 0.3395 - val_accuracy: 0.8957\n",
            "Epoch 11/50\n",
            "68/68 [==============================] - 84s 1s/step - loss: 0.0567 - accuracy: 0.9802 - val_loss: 0.3780 - val_accuracy: 0.8999\n",
            "Epoch 12/50\n",
            "68/68 [==============================] - 85s 1s/step - loss: 0.0304 - accuracy: 0.9895 - val_loss: 0.3988 - val_accuracy: 0.8957\n",
            "Epoch 13/50\n",
            "68/68 [==============================] - 85s 1s/step - loss: 0.0195 - accuracy: 0.9949 - val_loss: 0.4223 - val_accuracy: 0.8999\n",
            "Epoch 14/50\n",
            "68/68 [==============================] - 84s 1s/step - loss: 0.0201 - accuracy: 0.9954 - val_loss: 0.4196 - val_accuracy: 0.8929\n",
            "Epoch 15/50\n",
            "68/68 [==============================] - 83s 1s/step - loss: 0.0266 - accuracy: 0.9919 - val_loss: 0.3905 - val_accuracy: 0.9110\n",
            "Epoch 16/50\n",
            "68/68 [==============================] - 84s 1s/step - loss: 0.0133 - accuracy: 0.9981 - val_loss: 0.4265 - val_accuracy: 0.9026\n",
            "Epoch 17/50\n",
            "68/68 [==============================] - 83s 1s/step - loss: 0.0210 - accuracy: 0.9933 - val_loss: 0.3870 - val_accuracy: 0.8985\n",
            "Epoch 18/50\n",
            "68/68 [==============================] - 83s 1s/step - loss: 0.0211 - accuracy: 0.9936 - val_loss: 0.4433 - val_accuracy: 0.9054\n",
            "Epoch 19/50\n",
            "68/68 [==============================] - 83s 1s/step - loss: 0.0295 - accuracy: 0.9899 - val_loss: 0.3854 - val_accuracy: 0.8929\n",
            "Epoch 20/50\n",
            "68/68 [==============================] - 83s 1s/step - loss: 0.0124 - accuracy: 0.9964 - val_loss: 0.4276 - val_accuracy: 0.9082\n",
            "Epoch 21/50\n",
            "68/68 [==============================] - 83s 1s/step - loss: 0.0101 - accuracy: 0.9973 - val_loss: 0.4312 - val_accuracy: 0.9040\n",
            "Epoch 22/50\n",
            "68/68 [==============================] - 84s 1s/step - loss: 0.0071 - accuracy: 0.9963 - val_loss: 0.5008 - val_accuracy: 0.8999\n",
            "Epoch 23/50\n",
            "68/68 [==============================] - 83s 1s/step - loss: 0.0090 - accuracy: 0.9983 - val_loss: 0.4364 - val_accuracy: 0.8943\n",
            "Epoch 24/50\n",
            "68/68 [==============================] - 83s 1s/step - loss: 0.0078 - accuracy: 0.9977 - val_loss: 0.4521 - val_accuracy: 0.8957\n",
            "Epoch 25/50\n",
            "68/68 [==============================] - 83s 1s/step - loss: 0.0050 - accuracy: 0.9984 - val_loss: 0.4525 - val_accuracy: 0.9068\n",
            "Epoch 26/50\n",
            "68/68 [==============================] - 84s 1s/step - loss: 0.0017 - accuracy: 1.0000 - val_loss: 0.4727 - val_accuracy: 0.9096\n",
            "Epoch 27/50\n",
            "68/68 [==============================] - 83s 1s/step - loss: 0.0048 - accuracy: 0.9985 - val_loss: 0.4533 - val_accuracy: 0.9013\n",
            "Epoch 28/50\n",
            "68/68 [==============================] - 83s 1s/step - loss: 0.0072 - accuracy: 0.9988 - val_loss: 0.4943 - val_accuracy: 0.8985\n",
            "Epoch 29/50\n",
            "68/68 [==============================] - 83s 1s/step - loss: 0.0056 - accuracy: 0.9970 - val_loss: 0.4727 - val_accuracy: 0.8901\n",
            "Epoch 30/50\n",
            "68/68 [==============================] - 83s 1s/step - loss: 0.0071 - accuracy: 0.9981 - val_loss: 0.5381 - val_accuracy: 0.9054\n",
            "Epoch 31/50\n",
            "68/68 [==============================] - 84s 1s/step - loss: 0.0111 - accuracy: 0.9976 - val_loss: 0.4987 - val_accuracy: 0.9096\n",
            "Epoch 32/50\n",
            "68/68 [==============================] - 83s 1s/step - loss: 0.0040 - accuracy: 0.9991 - val_loss: 0.5753 - val_accuracy: 0.9096\n",
            "Epoch 33/50\n",
            "68/68 [==============================] - 83s 1s/step - loss: 0.0133 - accuracy: 0.9961 - val_loss: 0.4476 - val_accuracy: 0.8929\n",
            "Epoch 34/50\n",
            "68/68 [==============================] - 83s 1s/step - loss: 0.0032 - accuracy: 0.9994 - val_loss: 0.4618 - val_accuracy: 0.9096\n",
            "Epoch 35/50\n",
            "68/68 [==============================] - 83s 1s/step - loss: 0.0077 - accuracy: 0.9979 - val_loss: 0.5743 - val_accuracy: 0.8943\n",
            "Epoch 36/50\n",
            "68/68 [==============================] - 84s 1s/step - loss: 0.0118 - accuracy: 0.9943 - val_loss: 0.4559 - val_accuracy: 0.8999\n",
            "Epoch 37/50\n",
            "68/68 [==============================] - 83s 1s/step - loss: 0.0049 - accuracy: 0.9985 - val_loss: 0.5210 - val_accuracy: 0.8999\n",
            "Epoch 38/50\n",
            "68/68 [==============================] - 83s 1s/step - loss: 0.0052 - accuracy: 0.9990 - val_loss: 0.4730 - val_accuracy: 0.8999\n",
            "Epoch 39/50\n",
            "68/68 [==============================] - 83s 1s/step - loss: 7.9271e-04 - accuracy: 1.0000 - val_loss: 0.4772 - val_accuracy: 0.9082\n",
            "Epoch 40/50\n",
            "68/68 [==============================] - 83s 1s/step - loss: 3.3935e-04 - accuracy: 1.0000 - val_loss: 0.4881 - val_accuracy: 0.9082\n",
            "Epoch 41/50\n",
            "68/68 [==============================] - 83s 1s/step - loss: 0.0014 - accuracy: 0.9995 - val_loss: 0.5573 - val_accuracy: 0.9110\n",
            "Epoch 42/50\n",
            "68/68 [==============================] - 83s 1s/step - loss: 7.4875e-04 - accuracy: 0.9999 - val_loss: 0.5828 - val_accuracy: 0.8985\n",
            "Epoch 43/50\n",
            "68/68 [==============================] - 83s 1s/step - loss: 0.0035 - accuracy: 0.9985 - val_loss: 0.5617 - val_accuracy: 0.8999\n",
            "Epoch 44/50\n",
            "68/68 [==============================] - 83s 1s/step - loss: 0.0139 - accuracy: 0.9942 - val_loss: 0.4992 - val_accuracy: 0.8957\n",
            "Epoch 45/50\n",
            "68/68 [==============================] - 83s 1s/step - loss: 0.0071 - accuracy: 0.9979 - val_loss: 0.4774 - val_accuracy: 0.9054\n",
            "Epoch 46/50\n",
            "68/68 [==============================] - 83s 1s/step - loss: 0.0081 - accuracy: 0.9969 - val_loss: 0.4598 - val_accuracy: 0.9054\n",
            "Epoch 47/50\n",
            "68/68 [==============================] - 83s 1s/step - loss: 0.0058 - accuracy: 0.9973 - val_loss: 0.5062 - val_accuracy: 0.8971\n",
            "Epoch 48/50\n",
            "68/68 [==============================] - 84s 1s/step - loss: 8.2660e-04 - accuracy: 1.0000 - val_loss: 0.5044 - val_accuracy: 0.9054\n",
            "Epoch 49/50\n",
            "68/68 [==============================] - 83s 1s/step - loss: 0.0020 - accuracy: 0.9993 - val_loss: 0.5365 - val_accuracy: 0.8985\n",
            "Epoch 50/50\n",
            "68/68 [==============================] - 83s 1s/step - loss: 0.0104 - accuracy: 0.9973 - val_loss: 0.5046 - val_accuracy: 0.9124\n"
          ],
          "name": "stdout"
        }
      ]
    },
    {
      "cell_type": "code",
      "metadata": {
        "colab": {
          "base_uri": "https://localhost:8080/",
          "height": 558
        },
        "id": "E8bEk1uYLcFO",
        "outputId": "8bae5680-9df9-4fba-f5b2-b471fcc5692e"
      },
      "source": [
        "# Plotting \n",
        "from matplotlib import pyplot as plt\n",
        "\n",
        "# Tranning and Validation Loss\n",
        "plt.plot(fitted_fmd_model.history['loss'],'r',label='Tranning Loss')\n",
        "plt.plot(fitted_fmd_model.history['val_loss'],label='Validation Loss')\n",
        "plt.xlabel('Number of Epochs')\n",
        "plt.ylabel('Loss Value')\n",
        "plt.legend()\n",
        "plt.show()\n",
        "plt.savefig(\"TranningValidationLoss.png\")\n",
        "\n",
        "\n",
        "# Tranning and Validation Accuracy\n",
        "plt.plot(fitted_fmd_model.history['accuracy'],'r',label='Tranning Accuracy')\n",
        "plt.plot(fitted_fmd_model.history['val_accuracy'],label='Validation Accuracy')\n",
        "plt.xlabel('Number of Epochs')\n",
        "plt.ylabel('Accuracy Value')\n",
        "plt.legend()\n",
        "plt.show()\n",
        "plt.savefig(\"TranningValidationAccuracy.png\")"
      ],
      "execution_count": null,
      "outputs": [
        {
          "output_type": "display_data",
          "data": {
            "image/png": "[encoded data removed]",
            "text/plain": [
              "<Figure size 432x288 with 1 Axes>"
            ]
          },
          "metadata": {
            "tags": []
          }
        },
        {
          "output_type": "display_data",
          "data": {
            "image/png": "[encoded data removed]",
            "text/plain": [
              "<Figure size 432x288 with 1 Axes>"
            ]
          },
          "metadata": {
            "tags": []
          }
        },
        {
          "output_type": "display_data",
          "data": {
            "text/plain": [
              "<Figure size 432x288 with 0 Axes>"
            ]
          },
          "metadata": {
            "tags": []
          }
        }
      ]
    },
    {
      "cell_type": "code",
      "metadata": {
        "id": "Gy9chFLLMK2l"
      },
      "source": [
        "model.save('FMDM.h5')"
      ],
      "execution_count": null,
      "outputs": []
    },
    {
      "cell_type": "code",
      "execution_count": null,
      "metadata": {},
      "outputs": [],
      "source": [
        "Testing The Model [GOOGLE COLAB]"
      ]
    },
    {
      "cell_type": "code",
      "metadata": {
        "id": "CGi0zTMQtRjs"
      },
      "source": [
        "# Install opencv [FOR GOOGLE COLAB]\n",
        "!apt-get -qq install -y libsm6 libxext6 && pip install -q -U opencv-python"
      ],
      "execution_count": null,
      "outputs": []
    },
    {
      "cell_type": "code",
      "metadata": {
        "id": "-fcMEygFvx_9"
      },
      "source": [
        "# To Take input from webcam on Google Colab\n",
        "from IPython.display import display, Javascript\n",
        "from google.colab.output import eval_js\n",
        "from base64 import b64decode\n",
        "\n",
        "def take_photo(filename='photo.jpg', quality=0.8):\n",
        "  js = Javascript('''\n",
        "    async function takePhoto(quality) {\n",
        "      const div = document.createElement('div');\n",
        "      const capture = document.createElement('button');\n",
        "      capture.textContent = 'Capture';\n",
        "      div.appendChild(capture);\n",
        "\n",
        "      const video = document.createElement('video');\n",
        "      video.style.display = 'block';\n",
        "      const stream = await navigator.mediaDevices.getUserMedia({video: true});\n",
        "\n",
        "      document.body.appendChild(div);\n",
        "      div.appendChild(video);\n",
        "      video.srcObject = stream;\n",
        "      await video.play();\n",
        "\n",
        "      // Resize the output to fit the video element.\n",
        "      google.colab.output.setIframeHeight(document.documentElement.scrollHeight, true);\n",
        "\n",
        "      // Wait for Capture to be clicked.\n",
        "      await new Promise((resolve) => capture.onclick = resolve);\n",
        "\n",
        "      const canvas = document.createElement('canvas');\n",
        "      canvas.width = video.videoWidth;\n",
        "      canvas.height = video.videoHeight;\n",
        "      canvas.getContext('2d').drawImage(video, 0, 0);\n",
        "      stream.getVideoTracks()[0].stop();\n",
        "      div.remove();\n",
        "      return canvas.toDataURL('image/jpeg', quality);\n",
        "    }\n",
        "    ''')\n",
        "  display(js)\n",
        "  data = eval_js('takePhoto({})'.format(quality))\n",
        "  binary = b64decode(data.split(',')[1])\n",
        "  with open(filename, 'wb') as f:\n",
        "    f.write(binary)\n",
        "  return filename"
      ],
      "execution_count": null,
      "outputs": []
    },
    {
      "cell_type": "code",
      "metadata": {
        "id": "dPjtLXCNYCK3"
      },
      "source": [
        "import cv2\n",
        "import numpy as np\n",
        "from tensorflow.keras.models import load_model\n",
        "from google.colab.patches import cv2_imshow\n",
        "\n",
        "m = load_model('FMDM.h5')\n",
        "c = cv2.CascadeClassifier('haarcascade_frontalface_default.xml')\n",
        "\n",
        "video = cv2.VideoCapture(0)\n",
        "results = {\n",
        "    0 : 'Wearing Mask',\n",
        "    1 : 'No Mask' \n",
        "}\n",
        "\n",
        "colors = {\n",
        "    0 : (0,255,0),\n",
        "    1 : (0,0,255)\n",
        "}\n",
        "\n",
        "while True:\n",
        "  # ret, img = video.read()\n",
        "  img = cv2.imread(take_photo(), cv2.IMREAD_UNCHANGED)\n",
        "  img_gray = cv2.cvtColor(img, cv2.COLOR_BGR2GRAY)\n",
        "  faces = c.detectMultiScale(img_gray, 1.3, 5)\n",
        "\n",
        "  for (x,y,w,h) in faces:\n",
        "    img_face = img_gray[y:y+w, x:x+w]\n",
        "    img_norm = cv2.resize(img_face, (112,112)) / 255.0\n",
        "    img_rshp = np.reshape(img_norm, (1,112,112,1))\n",
        "\n",
        "    r = m.predict(img_rshp)\n",
        "    l = np.argmax(r, axis=1)[0]\n",
        "\n",
        "    print(l)\n",
        "\n",
        "    cv2.rectangle(img, (x, y), (x + w, y + h), colors[l],2)\n",
        "    cv2.rectangle(img, (x, y - 40), (x + w, y),colors[l], -1)\n",
        "    cv2.putText(img, results[l], (x, y - 10), cv2.FONT_HERSHEY_SIMPLEX, 0.8, (0, 0, 0), 2)\n",
        "  \n",
        "  # cv2.imshow() causes jupyter session problems on Colab, so using Google Patch\n",
        "  cv2_imshow(img)\n",
        "  k = cv2.waitKey(1)\n",
        "  if k == 27:\n",
        "    break\n",
        "\n",
        "\n"
      ],
      "execution_count": null,
      "outputs": []
    }
  ]
}